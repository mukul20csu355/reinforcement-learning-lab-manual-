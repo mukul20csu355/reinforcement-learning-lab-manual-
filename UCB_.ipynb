{
  "cells": [
    {
      "cell_type": "markdown",
      "metadata": {
        "id": "view-in-github",
        "colab_type": "text"
      },
      "source": [
        "<a href=\"https://colab.research.google.com/github/mukul20csu355/reinforcement-learning-lab-manual-/blob/main/UCB_.ipynb\" target=\"_parent\"><img src=\"https://colab.research.google.com/assets/colab-badge.svg\" alt=\"Open In Colab\"/></a>"
      ]
    },
    {
      "cell_type": "code",
      "execution_count": null,
      "id": "778ff9c4",
      "metadata": {
        "id": "778ff9c4"
      },
      "outputs": [],
      "source": [
        "import numpy as np\n",
        "import pandas as pd\n",
        "import matplotlib.pyplot as plt"
      ]
    },
    {
      "cell_type": "code",
      "execution_count": null,
      "id": "d5ef0972",
      "metadata": {
        "id": "d5ef0972",
        "outputId": "e6581be7-878b-4354-ed2f-152b5f71ecb4"
      },
      "outputs": [
        {
          "data": {
            "text/html": [
              "<div>\n",
              "<style scoped>\n",
              "    .dataframe tbody tr th:only-of-type {\n",
              "        vertical-align: middle;\n",
              "    }\n",
              "\n",
              "    .dataframe tbody tr th {\n",
              "        vertical-align: top;\n",
              "    }\n",
              "\n",
              "    .dataframe thead th {\n",
              "        text-align: right;\n",
              "    }\n",
              "</style>\n",
              "<table border=\"1\" class=\"dataframe\">\n",
              "  <thead>\n",
              "    <tr style=\"text-align: right;\">\n",
              "      <th></th>\n",
              "      <th>Ad 1</th>\n",
              "      <th>Ad 2</th>\n",
              "      <th>Ad 3</th>\n",
              "      <th>Ad 4</th>\n",
              "      <th>Ad 5</th>\n",
              "      <th>Ad 6</th>\n",
              "      <th>Ad 7</th>\n",
              "      <th>Ad 8</th>\n",
              "      <th>Ad 9</th>\n",
              "      <th>Ad 10</th>\n",
              "    </tr>\n",
              "  </thead>\n",
              "  <tbody>\n",
              "    <tr>\n",
              "      <th>0</th>\n",
              "      <td>1</td>\n",
              "      <td>0</td>\n",
              "      <td>0</td>\n",
              "      <td>0</td>\n",
              "      <td>1</td>\n",
              "      <td>0</td>\n",
              "      <td>0</td>\n",
              "      <td>0</td>\n",
              "      <td>1</td>\n",
              "      <td>0</td>\n",
              "    </tr>\n",
              "    <tr>\n",
              "      <th>1</th>\n",
              "      <td>0</td>\n",
              "      <td>0</td>\n",
              "      <td>0</td>\n",
              "      <td>0</td>\n",
              "      <td>0</td>\n",
              "      <td>0</td>\n",
              "      <td>0</td>\n",
              "      <td>0</td>\n",
              "      <td>1</td>\n",
              "      <td>0</td>\n",
              "    </tr>\n",
              "    <tr>\n",
              "      <th>2</th>\n",
              "      <td>0</td>\n",
              "      <td>0</td>\n",
              "      <td>0</td>\n",
              "      <td>0</td>\n",
              "      <td>0</td>\n",
              "      <td>0</td>\n",
              "      <td>0</td>\n",
              "      <td>0</td>\n",
              "      <td>0</td>\n",
              "      <td>0</td>\n",
              "    </tr>\n",
              "    <tr>\n",
              "      <th>3</th>\n",
              "      <td>0</td>\n",
              "      <td>1</td>\n",
              "      <td>0</td>\n",
              "      <td>0</td>\n",
              "      <td>0</td>\n",
              "      <td>0</td>\n",
              "      <td>0</td>\n",
              "      <td>1</td>\n",
              "      <td>0</td>\n",
              "      <td>0</td>\n",
              "    </tr>\n",
              "    <tr>\n",
              "      <th>4</th>\n",
              "      <td>0</td>\n",
              "      <td>0</td>\n",
              "      <td>0</td>\n",
              "      <td>0</td>\n",
              "      <td>0</td>\n",
              "      <td>0</td>\n",
              "      <td>0</td>\n",
              "      <td>0</td>\n",
              "      <td>0</td>\n",
              "      <td>0</td>\n",
              "    </tr>\n",
              "    <tr>\n",
              "      <th>...</th>\n",
              "      <td>...</td>\n",
              "      <td>...</td>\n",
              "      <td>...</td>\n",
              "      <td>...</td>\n",
              "      <td>...</td>\n",
              "      <td>...</td>\n",
              "      <td>...</td>\n",
              "      <td>...</td>\n",
              "      <td>...</td>\n",
              "      <td>...</td>\n",
              "    </tr>\n",
              "    <tr>\n",
              "      <th>9995</th>\n",
              "      <td>0</td>\n",
              "      <td>0</td>\n",
              "      <td>1</td>\n",
              "      <td>0</td>\n",
              "      <td>0</td>\n",
              "      <td>0</td>\n",
              "      <td>0</td>\n",
              "      <td>1</td>\n",
              "      <td>0</td>\n",
              "      <td>0</td>\n",
              "    </tr>\n",
              "    <tr>\n",
              "      <th>9996</th>\n",
              "      <td>0</td>\n",
              "      <td>0</td>\n",
              "      <td>0</td>\n",
              "      <td>0</td>\n",
              "      <td>0</td>\n",
              "      <td>0</td>\n",
              "      <td>0</td>\n",
              "      <td>0</td>\n",
              "      <td>0</td>\n",
              "      <td>0</td>\n",
              "    </tr>\n",
              "    <tr>\n",
              "      <th>9997</th>\n",
              "      <td>0</td>\n",
              "      <td>0</td>\n",
              "      <td>0</td>\n",
              "      <td>0</td>\n",
              "      <td>0</td>\n",
              "      <td>0</td>\n",
              "      <td>0</td>\n",
              "      <td>0</td>\n",
              "      <td>0</td>\n",
              "      <td>0</td>\n",
              "    </tr>\n",
              "    <tr>\n",
              "      <th>9998</th>\n",
              "      <td>1</td>\n",
              "      <td>0</td>\n",
              "      <td>0</td>\n",
              "      <td>0</td>\n",
              "      <td>0</td>\n",
              "      <td>0</td>\n",
              "      <td>0</td>\n",
              "      <td>1</td>\n",
              "      <td>0</td>\n",
              "      <td>0</td>\n",
              "    </tr>\n",
              "    <tr>\n",
              "      <th>9999</th>\n",
              "      <td>0</td>\n",
              "      <td>1</td>\n",
              "      <td>0</td>\n",
              "      <td>0</td>\n",
              "      <td>0</td>\n",
              "      <td>0</td>\n",
              "      <td>0</td>\n",
              "      <td>0</td>\n",
              "      <td>0</td>\n",
              "      <td>0</td>\n",
              "    </tr>\n",
              "  </tbody>\n",
              "</table>\n",
              "<p>10000 rows × 10 columns</p>\n",
              "</div>"
            ],
            "text/plain": [
              "      Ad 1  Ad 2  Ad 3  Ad 4  Ad 5  Ad 6  Ad 7  Ad 8  Ad 9  Ad 10\n",
              "0        1     0     0     0     1     0     0     0     1      0\n",
              "1        0     0     0     0     0     0     0     0     1      0\n",
              "2        0     0     0     0     0     0     0     0     0      0\n",
              "3        0     1     0     0     0     0     0     1     0      0\n",
              "4        0     0     0     0     0     0     0     0     0      0\n",
              "...    ...   ...   ...   ...   ...   ...   ...   ...   ...    ...\n",
              "9995     0     0     1     0     0     0     0     1     0      0\n",
              "9996     0     0     0     0     0     0     0     0     0      0\n",
              "9997     0     0     0     0     0     0     0     0     0      0\n",
              "9998     1     0     0     0     0     0     0     1     0      0\n",
              "9999     0     1     0     0     0     0     0     0     0      0\n",
              "\n",
              "[10000 rows x 10 columns]"
            ]
          },
          "execution_count": 2,
          "metadata": {},
          "output_type": "execute_result"
        }
      ],
      "source": [
        "df = pd.read_csv('Ads_Optimisation.csv')\n",
        "df"
      ]
    },
    {
      "cell_type": "code",
      "execution_count": null,
      "id": "113fc5f9",
      "metadata": {
        "id": "113fc5f9",
        "outputId": "2f3dc960-9194-4139-9f8b-6fc31c55d471"
      },
      "outputs": [
        {
          "name": "stdout",
          "output_type": "stream",
          "text": [
            "1256\n"
          ]
        }
      ],
      "source": [
        "import random\n",
        "N = 10000\n",
        "d = 10\n",
        "ads_selected = []\n",
        "total_reward= 0\n",
        "for n in range(0, N):\n",
        "    ad = random.randrange(d)\n",
        "    ads_selected.append(ad)\n",
        "    reward = df.values[n, ad]\n",
        "    total_reward = total_reward + reward\n",
        "print(total_reward)"
      ]
    },
    {
      "cell_type": "code",
      "execution_count": null,
      "id": "97147969",
      "metadata": {
        "id": "97147969",
        "outputId": "9c4b1c45-aba4-4256-ca58-b5d95c97fbbb"
      },
      "outputs": [
        {
          "data": {
            "text/plain": [
              "7    0.110\n",
              "2    0.106\n",
              "1    0.105\n",
              "5    0.104\n",
              "9    0.103\n",
              "6    0.099\n",
              "0    0.098\n",
              "8    0.095\n",
              "3    0.091\n",
              "4    0.089\n",
              "dtype: float64"
            ]
          },
          "execution_count": 15,
          "metadata": {},
          "output_type": "execute_result"
        }
      ],
      "source": [
        "pd.Series(ads_selected).tail(1000).value_counts(normalize=True)"
      ]
    },
    {
      "cell_type": "code",
      "execution_count": null,
      "id": "8adc8762",
      "metadata": {
        "id": "8adc8762"
      },
      "outputs": [],
      "source": [
        "#Implementing UCB\n",
        "import math\n",
        "N = 10000\n",
        "d = 10\n",
        "ads_selected = []\n",
        "number_of_selections = [0]*d\n",
        "sum_of_reward = [0]*d\n",
        "total_reward = 0"
      ]
    },
    {
      "cell_type": "code",
      "execution_count": null,
      "id": "7131d486",
      "metadata": {
        "id": "7131d486",
        "outputId": "9ee980ac-6c48-4a02-d396-5413ac552fe4"
      },
      "outputs": [
        {
          "name": "stdout",
          "output_type": "stream",
          "text": [
            "2387\n"
          ]
        }
      ],
      "source": [
        "for n in range(10000):\n",
        "    ad = 0\n",
        "    max_upper_bound = 0\n",
        "    for i in range(0, d):\n",
        "        if(number_of_selections[i] > 0):\n",
        "            average_reward = sum_of_reward[i] / number_of_selections[i]\n",
        "            delta_i = math.sqrt(2*math.log(n+1) / number_of_selections[i])\n",
        "            upper_bound = average_reward + delta_i\n",
        "        else:\n",
        "            upper_bound = 1e400\n",
        "        if upper_bound > max_upper_bound:\n",
        "            max_upper_bound = upper_bound\n",
        "            ad = i\n",
        "    ads_selected.append(ad)\n",
        "    number_of_selections[ad] += 1\n",
        "    reward = df.values[n, ad]\n",
        "    sum_of_reward[ad] += reward\n",
        "    total_reward += reward\n",
        "print(total_reward)"
      ]
    },
    {
      "cell_type": "code",
      "execution_count": null,
      "id": "d07eb8cb",
      "metadata": {
        "id": "d07eb8cb",
        "outputId": "f880ca8d-a8ff-4c2b-f731-3e3173531aef"
      },
      "outputs": [
        {
          "data": {
            "text/plain": [
              "4    0.791\n",
              "7    0.073\n",
              "1    0.040\n",
              "3    0.026\n",
              "2    0.022\n",
              "0    0.019\n",
              "8    0.009\n",
              "6    0.009\n",
              "5    0.006\n",
              "9    0.005\n",
              "dtype: float64"
            ]
          },
          "execution_count": 26,
          "metadata": {},
          "output_type": "execute_result"
        }
      ],
      "source": [
        "pd.Series(ads_selected).tail(1000).value_counts(normalize=True)"
      ]
    },
    {
      "cell_type": "code",
      "execution_count": null,
      "id": "19836aeb",
      "metadata": {
        "id": "19836aeb",
        "outputId": "c7ce102a-8786-4da4-f010-80ef08e9a6f5"
      },
      "outputs": [
        {
          "data": {
            "text/plain": [
              "Text(0, 0.5, 'Number of times each ad was selected by the selected by the algorithm')"
            ]
          },
          "execution_count": 27,
          "metadata": {},
          "output_type": "execute_result"
        },
        {
          "data": {
            "image/png": "[encoded data removed]",
            "text/plain": [
              "<Figure size 432x288 with 1 Axes>"
            ]
          },
          "metadata": {
            "needs_background": "light"
          },
          "output_type": "display_data"
        }
      ],
      "source": [
        "plt.hist(ads_selected)\n",
        "plt.title('Histogram of ads selections')\n",
        "plt.xlabel('ads')\n",
        "plt.ylabel('Number of times each ad was selected by the selected by the algorithm')"
      ]
    },
    {
      "cell_type": "code",
      "execution_count": null,
      "id": "0be8cc2a",
      "metadata": {
        "id": "0be8cc2a"
      },
      "outputs": [],
      "source": []
    }
  ],
  "metadata": {
    "kernelspec": {
      "display_name": "Python 3 (ipykernel)",
      "language": "python",
      "name": "python3"
    },
    "language_info": {
      "codemirror_mode": {
        "name": "ipython",
        "version": 3
      },
      "file_extension": ".py",
      "mimetype": "text/x-python",
      "name": "python",
      "nbconvert_exporter": "python",
      "pygments_lexer": "ipython3",
      "version": "3.9.12"
    },
    "colab": {
      "provenance": [],
      "collapsed_sections": [],
      "include_colab_link": true
    }
  },
  "nbformat": 4,
  "nbformat_minor": 5
}