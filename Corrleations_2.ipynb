{
  "cells": [
    {
      "cell_type": "markdown",
      "metadata": {
        "id": "view-in-github",
        "colab_type": "text"
      },
      "source": [
        "<a href=\"https://colab.research.google.com/github/mukul20csu355/reinforcement-learning-lab-manual-/blob/main/Corrleations_2.ipynb\" target=\"_parent\"><img src=\"https://colab.research.google.com/assets/colab-badge.svg\" alt=\"Open In Colab\"/></a>"
      ]
    },
    {
      "cell_type": "code",
      "execution_count": null,
      "id": "4f79559e",
      "metadata": {
        "id": "4f79559e"
      },
      "outputs": [],
      "source": [
        "import numpy as np\n",
        "import pandas as pd\n",
        "import seaborn as sns\n",
        "import matplotlib.pyplot as plt\n",
        "from scipy.stats import norm"
      ]
    },
    {
      "cell_type": "code",
      "execution_count": null,
      "id": "0649bbda",
      "metadata": {
        "id": "0649bbda"
      },
      "outputs": [],
      "source": [
        "data = pd.read_csv('House_Rent_Dataset.csv')"
      ]
    },
    {
      "cell_type": "code",
      "execution_count": null,
      "id": "c9780a32",
      "metadata": {
        "colab": {
          "base_uri": "https://localhost:8080/"
        },
        "id": "c9780a32",
        "outputId": "d19c8724-f94f-4bd8-fe14-58f36bffb5d6"
      },
      "outputs": [
        {
          "data": {
            "text/plain": [
              "(4746, 12)"
            ]
          },
          "execution_count": 4,
          "metadata": {},
          "output_type": "execute_result"
        }
      ],
      "source": [
        "data.shape"
      ]
    },
    {
      "cell_type": "code",
      "execution_count": null,
      "id": "3304c7c1",
      "metadata": {
        "colab": {
          "base_uri": "https://localhost:8080/"
        },
        "id": "3304c7c1",
        "outputId": "81687334-110c-4bc0-a135-d649ddaf88c5"
      },
      "outputs": [
        {
          "data": {
            "text/plain": [
              "count    4.746000e+03\n",
              "mean     3.499345e+04\n",
              "std      7.810641e+04\n",
              "min      1.200000e+03\n",
              "25%      1.000000e+04\n",
              "50%      1.600000e+04\n",
              "75%      3.300000e+04\n",
              "max      3.500000e+06\n",
              "Name: Rent, dtype: float64"
            ]
          },
          "execution_count": 5,
          "metadata": {},
          "output_type": "execute_result"
        }
      ],
      "source": [
        "data['Rent'].describe()"
      ]
    },
    {
      "cell_type": "code",
      "execution_count": null,
      "id": "b3e76bc0",
      "metadata": {
        "colab": {
          "base_uri": "https://localhost:8080/",
          "height": 424
        },
        "id": "b3e76bc0",
        "outputId": "456d474e-7f0d-419a-906b-3dc8d88fe3d1"
      },
      "outputs": [
        {
          "data": {
            "text/html": [
              "<div>\n",
              "<style scoped>\n",
              "    .dataframe tbody tr th:only-of-type {\n",
              "        vertical-align: middle;\n",
              "    }\n",
              "\n",
              "    .dataframe tbody tr th {\n",
              "        vertical-align: top;\n",
              "    }\n",
              "\n",
              "    .dataframe thead th {\n",
              "        text-align: right;\n",
              "    }\n",
              "</style>\n",
              "<table border=\"1\" class=\"dataframe\">\n",
              "  <thead>\n",
              "    <tr style=\"text-align: right;\">\n",
              "      <th></th>\n",
              "      <th>Posted On</th>\n",
              "      <th>BHK</th>\n",
              "      <th>Rent</th>\n",
              "      <th>Size</th>\n",
              "      <th>Floor</th>\n",
              "      <th>Area Type</th>\n",
              "      <th>Area Locality</th>\n",
              "      <th>City</th>\n",
              "      <th>Furnishing Status</th>\n",
              "      <th>Tenant Preferred</th>\n",
              "      <th>Bathroom</th>\n",
              "      <th>Point of Contact</th>\n",
              "    </tr>\n",
              "  </thead>\n",
              "  <tbody>\n",
              "    <tr>\n",
              "      <th>0</th>\n",
              "      <td>18-05-2022</td>\n",
              "      <td>2</td>\n",
              "      <td>10000</td>\n",
              "      <td>1100</td>\n",
              "      <td>Ground out of 2</td>\n",
              "      <td>Super Area</td>\n",
              "      <td>Bandel</td>\n",
              "      <td>Kolkata</td>\n",
              "      <td>Unfurnished</td>\n",
              "      <td>Bachelors/Family</td>\n",
              "      <td>2</td>\n",
              "      <td>Contact Owner</td>\n",
              "    </tr>\n",
              "    <tr>\n",
              "      <th>1</th>\n",
              "      <td>13-05-2022</td>\n",
              "      <td>2</td>\n",
              "      <td>20000</td>\n",
              "      <td>800</td>\n",
              "      <td>1 out of 3</td>\n",
              "      <td>Super Area</td>\n",
              "      <td>Phool Bagan, Kankurgachi</td>\n",
              "      <td>Kolkata</td>\n",
              "      <td>Semi-Furnished</td>\n",
              "      <td>Bachelors/Family</td>\n",
              "      <td>1</td>\n",
              "      <td>Contact Owner</td>\n",
              "    </tr>\n",
              "    <tr>\n",
              "      <th>2</th>\n",
              "      <td>16-05-2022</td>\n",
              "      <td>2</td>\n",
              "      <td>17000</td>\n",
              "      <td>1000</td>\n",
              "      <td>1 out of 3</td>\n",
              "      <td>Super Area</td>\n",
              "      <td>Salt Lake City Sector 2</td>\n",
              "      <td>Kolkata</td>\n",
              "      <td>Semi-Furnished</td>\n",
              "      <td>Bachelors/Family</td>\n",
              "      <td>1</td>\n",
              "      <td>Contact Owner</td>\n",
              "    </tr>\n",
              "    <tr>\n",
              "      <th>3</th>\n",
              "      <td>04-07-2022</td>\n",
              "      <td>2</td>\n",
              "      <td>10000</td>\n",
              "      <td>800</td>\n",
              "      <td>1 out of 2</td>\n",
              "      <td>Super Area</td>\n",
              "      <td>Dumdum Park</td>\n",
              "      <td>Kolkata</td>\n",
              "      <td>Unfurnished</td>\n",
              "      <td>Bachelors/Family</td>\n",
              "      <td>1</td>\n",
              "      <td>Contact Owner</td>\n",
              "    </tr>\n",
              "    <tr>\n",
              "      <th>4</th>\n",
              "      <td>09-05-2022</td>\n",
              "      <td>2</td>\n",
              "      <td>7500</td>\n",
              "      <td>850</td>\n",
              "      <td>1 out of 2</td>\n",
              "      <td>Carpet Area</td>\n",
              "      <td>South Dum Dum</td>\n",
              "      <td>Kolkata</td>\n",
              "      <td>Unfurnished</td>\n",
              "      <td>Bachelors</td>\n",
              "      <td>1</td>\n",
              "      <td>Contact Owner</td>\n",
              "    </tr>\n",
              "    <tr>\n",
              "      <th>...</th>\n",
              "      <td>...</td>\n",
              "      <td>...</td>\n",
              "      <td>...</td>\n",
              "      <td>...</td>\n",
              "      <td>...</td>\n",
              "      <td>...</td>\n",
              "      <td>...</td>\n",
              "      <td>...</td>\n",
              "      <td>...</td>\n",
              "      <td>...</td>\n",
              "      <td>...</td>\n",
              "      <td>...</td>\n",
              "    </tr>\n",
              "    <tr>\n",
              "      <th>4741</th>\n",
              "      <td>18-05-2022</td>\n",
              "      <td>2</td>\n",
              "      <td>15000</td>\n",
              "      <td>1000</td>\n",
              "      <td>3 out of 5</td>\n",
              "      <td>Carpet Area</td>\n",
              "      <td>Bandam Kommu</td>\n",
              "      <td>Hyderabad</td>\n",
              "      <td>Semi-Furnished</td>\n",
              "      <td>Bachelors/Family</td>\n",
              "      <td>2</td>\n",
              "      <td>Contact Owner</td>\n",
              "    </tr>\n",
              "    <tr>\n",
              "      <th>4742</th>\n",
              "      <td>15-05-2022</td>\n",
              "      <td>3</td>\n",
              "      <td>29000</td>\n",
              "      <td>2000</td>\n",
              "      <td>1 out of 4</td>\n",
              "      <td>Super Area</td>\n",
              "      <td>Manikonda, Hyderabad</td>\n",
              "      <td>Hyderabad</td>\n",
              "      <td>Semi-Furnished</td>\n",
              "      <td>Bachelors/Family</td>\n",
              "      <td>3</td>\n",
              "      <td>Contact Owner</td>\n",
              "    </tr>\n",
              "    <tr>\n",
              "      <th>4743</th>\n",
              "      <td>10-07-2022</td>\n",
              "      <td>3</td>\n",
              "      <td>35000</td>\n",
              "      <td>1750</td>\n",
              "      <td>3 out of 5</td>\n",
              "      <td>Carpet Area</td>\n",
              "      <td>Himayath Nagar, NH 7</td>\n",
              "      <td>Hyderabad</td>\n",
              "      <td>Semi-Furnished</td>\n",
              "      <td>Bachelors/Family</td>\n",
              "      <td>3</td>\n",
              "      <td>Contact Agent</td>\n",
              "    </tr>\n",
              "    <tr>\n",
              "      <th>4744</th>\n",
              "      <td>06-07-2022</td>\n",
              "      <td>3</td>\n",
              "      <td>45000</td>\n",
              "      <td>1500</td>\n",
              "      <td>23 out of 34</td>\n",
              "      <td>Carpet Area</td>\n",
              "      <td>Gachibowli</td>\n",
              "      <td>Hyderabad</td>\n",
              "      <td>Semi-Furnished</td>\n",
              "      <td>Family</td>\n",
              "      <td>2</td>\n",
              "      <td>Contact Agent</td>\n",
              "    </tr>\n",
              "    <tr>\n",
              "      <th>4745</th>\n",
              "      <td>04-05-2022</td>\n",
              "      <td>2</td>\n",
              "      <td>15000</td>\n",
              "      <td>1000</td>\n",
              "      <td>4 out of 5</td>\n",
              "      <td>Carpet Area</td>\n",
              "      <td>Suchitra Circle</td>\n",
              "      <td>Hyderabad</td>\n",
              "      <td>Unfurnished</td>\n",
              "      <td>Bachelors</td>\n",
              "      <td>2</td>\n",
              "      <td>Contact Owner</td>\n",
              "    </tr>\n",
              "  </tbody>\n",
              "</table>\n",
              "<p>4746 rows × 12 columns</p>\n",
              "</div>"
            ],
            "text/plain": [
              "       Posted On  BHK   Rent  Size            Floor    Area Type  \\\n",
              "0     18-05-2022    2  10000  1100  Ground out of 2   Super Area   \n",
              "1     13-05-2022    2  20000   800       1 out of 3   Super Area   \n",
              "2     16-05-2022    2  17000  1000       1 out of 3   Super Area   \n",
              "3     04-07-2022    2  10000   800       1 out of 2   Super Area   \n",
              "4     09-05-2022    2   7500   850       1 out of 2  Carpet Area   \n",
              "...          ...  ...    ...   ...              ...          ...   \n",
              "4741  18-05-2022    2  15000  1000       3 out of 5  Carpet Area   \n",
              "4742  15-05-2022    3  29000  2000       1 out of 4   Super Area   \n",
              "4743  10-07-2022    3  35000  1750       3 out of 5  Carpet Area   \n",
              "4744  06-07-2022    3  45000  1500     23 out of 34  Carpet Area   \n",
              "4745  04-05-2022    2  15000  1000       4 out of 5  Carpet Area   \n",
              "\n",
              "                 Area Locality       City Furnishing Status  Tenant Preferred  \\\n",
              "0                       Bandel    Kolkata       Unfurnished  Bachelors/Family   \n",
              "1     Phool Bagan, Kankurgachi    Kolkata    Semi-Furnished  Bachelors/Family   \n",
              "2      Salt Lake City Sector 2    Kolkata    Semi-Furnished  Bachelors/Family   \n",
              "3                  Dumdum Park    Kolkata       Unfurnished  Bachelors/Family   \n",
              "4                South Dum Dum    Kolkata       Unfurnished         Bachelors   \n",
              "...                        ...        ...               ...               ...   \n",
              "4741              Bandam Kommu  Hyderabad    Semi-Furnished  Bachelors/Family   \n",
              "4742      Manikonda, Hyderabad  Hyderabad    Semi-Furnished  Bachelors/Family   \n",
              "4743      Himayath Nagar, NH 7  Hyderabad    Semi-Furnished  Bachelors/Family   \n",
              "4744                Gachibowli  Hyderabad    Semi-Furnished            Family   \n",
              "4745           Suchitra Circle  Hyderabad       Unfurnished         Bachelors   \n",
              "\n",
              "      Bathroom Point of Contact  \n",
              "0            2    Contact Owner  \n",
              "1            1    Contact Owner  \n",
              "2            1    Contact Owner  \n",
              "3            1    Contact Owner  \n",
              "4            1    Contact Owner  \n",
              "...        ...              ...  \n",
              "4741         2    Contact Owner  \n",
              "4742         3    Contact Owner  \n",
              "4743         3    Contact Agent  \n",
              "4744         2    Contact Agent  \n",
              "4745         2    Contact Owner  \n",
              "\n",
              "[4746 rows x 12 columns]"
            ]
          },
          "execution_count": 6,
          "metadata": {},
          "output_type": "execute_result"
        }
      ],
      "source": [
        "data"
      ]
    },
    {
      "cell_type": "code",
      "execution_count": null,
      "id": "222df4b6",
      "metadata": {
        "colab": {
          "base_uri": "https://localhost:8080/",
          "height": 300
        },
        "id": "222df4b6",
        "outputId": "5c9c1c9b-1591-42e2-e5e6-f1274395e656"
      },
      "outputs": [
        {
          "data": {
            "text/html": [
              "<div>\n",
              "<style scoped>\n",
              "    .dataframe tbody tr th:only-of-type {\n",
              "        vertical-align: middle;\n",
              "    }\n",
              "\n",
              "    .dataframe tbody tr th {\n",
              "        vertical-align: top;\n",
              "    }\n",
              "\n",
              "    .dataframe thead th {\n",
              "        text-align: right;\n",
              "    }\n",
              "</style>\n",
              "<table border=\"1\" class=\"dataframe\">\n",
              "  <thead>\n",
              "    <tr style=\"text-align: right;\">\n",
              "      <th></th>\n",
              "      <th>BHK</th>\n",
              "      <th>Rent</th>\n",
              "      <th>Size</th>\n",
              "      <th>Bathroom</th>\n",
              "    </tr>\n",
              "  </thead>\n",
              "  <tbody>\n",
              "    <tr>\n",
              "      <th>count</th>\n",
              "      <td>4746.000000</td>\n",
              "      <td>4.746000e+03</td>\n",
              "      <td>4746.000000</td>\n",
              "      <td>4746.000000</td>\n",
              "    </tr>\n",
              "    <tr>\n",
              "      <th>mean</th>\n",
              "      <td>2.083860</td>\n",
              "      <td>3.499345e+04</td>\n",
              "      <td>967.490729</td>\n",
              "      <td>1.965866</td>\n",
              "    </tr>\n",
              "    <tr>\n",
              "      <th>std</th>\n",
              "      <td>0.832256</td>\n",
              "      <td>7.810641e+04</td>\n",
              "      <td>634.202328</td>\n",
              "      <td>0.884532</td>\n",
              "    </tr>\n",
              "    <tr>\n",
              "      <th>min</th>\n",
              "      <td>1.000000</td>\n",
              "      <td>1.200000e+03</td>\n",
              "      <td>10.000000</td>\n",
              "      <td>1.000000</td>\n",
              "    </tr>\n",
              "    <tr>\n",
              "      <th>25%</th>\n",
              "      <td>2.000000</td>\n",
              "      <td>1.000000e+04</td>\n",
              "      <td>550.000000</td>\n",
              "      <td>1.000000</td>\n",
              "    </tr>\n",
              "    <tr>\n",
              "      <th>50%</th>\n",
              "      <td>2.000000</td>\n",
              "      <td>1.600000e+04</td>\n",
              "      <td>850.000000</td>\n",
              "      <td>2.000000</td>\n",
              "    </tr>\n",
              "    <tr>\n",
              "      <th>75%</th>\n",
              "      <td>3.000000</td>\n",
              "      <td>3.300000e+04</td>\n",
              "      <td>1200.000000</td>\n",
              "      <td>2.000000</td>\n",
              "    </tr>\n",
              "    <tr>\n",
              "      <th>max</th>\n",
              "      <td>6.000000</td>\n",
              "      <td>3.500000e+06</td>\n",
              "      <td>8000.000000</td>\n",
              "      <td>10.000000</td>\n",
              "    </tr>\n",
              "  </tbody>\n",
              "</table>\n",
              "</div>"
            ],
            "text/plain": [
              "               BHK          Rent         Size     Bathroom\n",
              "count  4746.000000  4.746000e+03  4746.000000  4746.000000\n",
              "mean      2.083860  3.499345e+04   967.490729     1.965866\n",
              "std       0.832256  7.810641e+04   634.202328     0.884532\n",
              "min       1.000000  1.200000e+03    10.000000     1.000000\n",
              "25%       2.000000  1.000000e+04   550.000000     1.000000\n",
              "50%       2.000000  1.600000e+04   850.000000     2.000000\n",
              "75%       3.000000  3.300000e+04  1200.000000     2.000000\n",
              "max       6.000000  3.500000e+06  8000.000000    10.000000"
            ]
          },
          "execution_count": 7,
          "metadata": {},
          "output_type": "execute_result"
        }
      ],
      "source": [
        "data.describe()"
      ]
    },
    {
      "cell_type": "code",
      "execution_count": null,
      "id": "15170bbb",
      "metadata": {
        "colab": {
          "base_uri": "https://localhost:8080/",
          "height": 175
        },
        "id": "15170bbb",
        "outputId": "fac7d579-6a6b-409e-9431-344edbd000c1"
      },
      "outputs": [
        {
          "data": {
            "text/html": [
              "<div>\n",
              "<style scoped>\n",
              "    .dataframe tbody tr th:only-of-type {\n",
              "        vertical-align: middle;\n",
              "    }\n",
              "\n",
              "    .dataframe tbody tr th {\n",
              "        vertical-align: top;\n",
              "    }\n",
              "\n",
              "    .dataframe thead th {\n",
              "        text-align: right;\n",
              "    }\n",
              "</style>\n",
              "<table border=\"1\" class=\"dataframe\">\n",
              "  <thead>\n",
              "    <tr style=\"text-align: right;\">\n",
              "      <th></th>\n",
              "      <th>Floor</th>\n",
              "      <th>Area Type</th>\n",
              "      <th>Area Locality</th>\n",
              "      <th>City</th>\n",
              "      <th>Furnishing Status</th>\n",
              "      <th>Tenant Preferred</th>\n",
              "    </tr>\n",
              "  </thead>\n",
              "  <tbody>\n",
              "    <tr>\n",
              "      <th>count</th>\n",
              "      <td>4746</td>\n",
              "      <td>4746</td>\n",
              "      <td>4746</td>\n",
              "      <td>4746</td>\n",
              "      <td>4746</td>\n",
              "      <td>4746</td>\n",
              "    </tr>\n",
              "    <tr>\n",
              "      <th>unique</th>\n",
              "      <td>480</td>\n",
              "      <td>3</td>\n",
              "      <td>2235</td>\n",
              "      <td>6</td>\n",
              "      <td>3</td>\n",
              "      <td>3</td>\n",
              "    </tr>\n",
              "    <tr>\n",
              "      <th>top</th>\n",
              "      <td>1 out of 2</td>\n",
              "      <td>Super Area</td>\n",
              "      <td>Bandra West</td>\n",
              "      <td>Mumbai</td>\n",
              "      <td>Semi-Furnished</td>\n",
              "      <td>Bachelors/Family</td>\n",
              "    </tr>\n",
              "    <tr>\n",
              "      <th>freq</th>\n",
              "      <td>379</td>\n",
              "      <td>2446</td>\n",
              "      <td>37</td>\n",
              "      <td>972</td>\n",
              "      <td>2251</td>\n",
              "      <td>3444</td>\n",
              "    </tr>\n",
              "  </tbody>\n",
              "</table>\n",
              "</div>"
            ],
            "text/plain": [
              "             Floor   Area Type Area Locality    City Furnishing Status  \\\n",
              "count         4746        4746          4746    4746              4746   \n",
              "unique         480           3          2235       6                 3   \n",
              "top     1 out of 2  Super Area   Bandra West  Mumbai    Semi-Furnished   \n",
              "freq           379        2446            37     972              2251   \n",
              "\n",
              "        Tenant Preferred  \n",
              "count               4746  \n",
              "unique                 3  \n",
              "top     Bachelors/Family  \n",
              "freq                3444  "
            ]
          },
          "execution_count": 8,
          "metadata": {},
          "output_type": "execute_result"
        }
      ],
      "source": [
        "data[['Floor','Area Type','Area Locality','City','Furnishing Status','Tenant Preferred']].describe()"
      ]
    },
    {
      "cell_type": "code",
      "execution_count": null,
      "id": "cb289057",
      "metadata": {
        "colab": {
          "base_uri": "https://localhost:8080/",
          "height": 350
        },
        "id": "cb289057",
        "outputId": "de0d6a19-ea1d-4d95-f819-505d46a8a096"
      },
      "outputs": [
        {
          "data": {
            "text/plain": [
              "<AxesSubplot:ylabel='Frequency'>"
            ]
          },
          "execution_count": 9,
          "metadata": {},
          "output_type": "execute_result"
        },
        {
          "data": {
            "image/png": "[encoded data removed]",
            "text/plain": [
              "<Figure size 648x360 with 1 Axes>"
            ]
          },
          "metadata": {
            "needs_background": "light"
          },
          "output_type": "display_data"
        }
      ],
      "source": [
        "plt.figure(figsize = (9,5))\n",
        "data['Rent'].plot(kind='hist')"
      ]
    },
    {
      "cell_type": "code",
      "execution_count": null,
      "id": "6b2e01e7",
      "metadata": {
        "id": "6b2e01e7"
      },
      "outputs": [],
      "source": [
        "corrmat = data.corr()"
      ]
    },
    {
      "cell_type": "code",
      "execution_count": null,
      "id": "r1or9gk0yLAB",
      "metadata": {
        "colab": {
          "base_uri": "https://localhost:8080/",
          "height": 613
        },
        "id": "r1or9gk0yLAB",
        "outputId": "5ce5ecd0-fa1e-47b2-9b1e-9df5ad0684b2"
      },
      "outputs": [
        {
          "data": {
            "text/plain": [
              "<AxesSubplot:>"
            ]
          },
          "execution_count": 13,
          "metadata": {},
          "output_type": "execute_result"
        },
        {
          "data": {
            "image/png": "[encoded data removed]",
            "text/plain": [
              "<Figure size 576x432 with 2 Axes>"
            ]
          },
          "metadata": {
            "needs_background": "light"
          },
          "output_type": "display_data"
        }
      ],
      "source": [
        "f, ax = plt.subplots(figsize = (8,6))\n",
        "sns.heatmap(corrmat, ax = ax, cmap =\"YlGnBu\", linewidth = 0.1)"
      ]
    },
    {
      "cell_type": "code",
      "execution_count": null,
      "id": "78b4bd71",
      "metadata": {
        "id": "78b4bd71"
      },
      "outputs": [],
      "source": []
    }
  ],
  "metadata": {
    "colab": {
      "provenance": [],
      "include_colab_link": true
    },
    "kernelspec": {
      "display_name": "Python 3 (ipykernel)",
      "language": "python",
      "name": "python3"
    },
    "language_info": {
      "codemirror_mode": {
        "name": "ipython",
        "version": 3
      },
      "file_extension": ".py",
      "mimetype": "text/x-python",
      "name": "python",
      "nbconvert_exporter": "python",
      "pygments_lexer": "ipython3",
      "version": "3.9.12"
    }
  },
  "nbformat": 4,
  "nbformat_minor": 5
}