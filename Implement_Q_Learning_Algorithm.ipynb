{
  "cells": [
    {
      "cell_type": "markdown",
      "metadata": {
        "id": "view-in-github",
        "colab_type": "text"
      },
      "source": [
        "<a href=\"https://colab.research.google.com/github/mukul20csu355/reinforcement-learning-lab-manual-/blob/main/Implement_Q_Learning_Algorithm.ipynb\" target=\"_parent\"><img src=\"https://colab.research.google.com/assets/colab-badge.svg\" alt=\"Open In Colab\"/></a>"
      ]
    },
    {
      "cell_type": "code",
      "execution_count": null,
      "metadata": {
        "id": "mG_h71-V0Fr4"
      },
      "outputs": [],
      "source": [
        "    import numpy as np\n",
        "    #R matrix9\n",
        "    R=np.matrix([[-1,-1,-1,-1,0,-1],\n",
        "                 [-1,-1,-1,0,-1,100],\n",
        "                 [-1,-1,-1,0,-1,-1],\n",
        "                 [-1,0,0,-1,0,-1],\n",
        "                 [-1,0,0,-1,-1,100],\n",
        "                 [-1,0,-1,-1,0,100]])"
      ]
    },
    {
      "cell_type": "code",
      "execution_count": null,
      "metadata": {
        "colab": {
          "base_uri": "https://localhost:8080/"
        },
        "id": "cj3UjcYM3mVx",
        "outputId": "b479170c-44fe-412b-9869-ff6f02ac4e36"
      },
      "outputs": [
        {
          "data": {
            "text/plain": [
              "matrix([[ -1,  -1,  -1,  -1,   0,  -1],\n",
              "        [ -1,  -1,  -1,   0,  -1, 100],\n",
              "        [ -1,  -1,  -1,   0,  -1,  -1],\n",
              "        [ -1,   0,   0,  -1,   0,  -1],\n",
              "        [ -1,   0,   0,  -1,  -1, 100],\n",
              "        [ -1,   0,  -1,  -1,   0, 100]])"
            ]
          },
          "execution_count": 41,
          "metadata": {},
          "output_type": "execute_result"
        }
      ],
      "source": [
        "R"
      ]
    },
    {
      "cell_type": "code",
      "execution_count": null,
      "metadata": {
        "colab": {
          "base_uri": "https://localhost:8080/"
        },
        "id": "2L3GqDQH4I8V",
        "outputId": "56a08a6f-7baa-4281-b423-12f61813eb7d"
      },
      "outputs": [
        {
          "data": {
            "text/plain": [
              "matrix([[0., 0., 0., 0., 0., 0.],\n",
              "        [0., 0., 0., 0., 0., 0.],\n",
              "        [0., 0., 0., 0., 0., 0.],\n",
              "        [0., 0., 0., 0., 0., 0.],\n",
              "        [0., 0., 0., 0., 0., 0.],\n",
              "        [0., 0., 0., 0., 0., 0.]])"
            ]
          },
          "execution_count": 42,
          "metadata": {},
          "output_type": "execute_result"
        }
      ],
      "source": [
        "#Q matrix \n",
        "Q = np.matrix(np.zeros([6,6]))\n",
        "Q"
      ]
    },
    {
      "cell_type": "code",
      "execution_count": null,
      "metadata": {
        "id": "8KTMnPu44luf"
      },
      "outputs": [],
      "source": [
        "gamma = 0.8\n",
        "initial_state = 1"
      ]
    },
    {
      "cell_type": "code",
      "execution_count": null,
      "metadata": {
        "id": "mJjR-DHZ42YV"
      },
      "outputs": [],
      "source": [
        "#This function returns all available actions in the state given as an argument\n",
        "def available_actions(state):\n",
        "  current_state_row=R[state,]\n",
        "  av_act=np.where(current_state_row>=0)[1]\n",
        "  return av_act"
      ]
    },
    {
      "cell_type": "code",
      "execution_count": null,
      "metadata": {
        "id": "5bsN26El5UR-"
      },
      "outputs": [],
      "source": [
        "# Get available actions in the current state \n",
        "available_act=available_actions(initial_state)"
      ]
    },
    {
      "cell_type": "code",
      "execution_count": null,
      "metadata": {
        "colab": {
          "base_uri": "https://localhost:8080/"
        },
        "id": "Q1HZyhK65iXW",
        "outputId": "26bbbe36-1a63-4ee3-c0cc-d869fd773fa2"
      },
      "outputs": [
        {
          "data": {
            "text/plain": [
              "array([3, 5], dtype=int64)"
            ]
          },
          "execution_count": 46,
          "metadata": {},
          "output_type": "execute_result"
        }
      ],
      "source": [
        "available_act"
      ]
    },
    {
      "cell_type": "code",
      "execution_count": null,
      "metadata": {
        "id": "fzsW28xP5nCv"
      },
      "outputs": [],
      "source": [
        "def sample_next_action(available_actions_range):\n",
        "  next_action = int(np.random.choice(available_act, 1))\n",
        "  return next_action"
      ]
    },
    {
      "cell_type": "code",
      "execution_count": null,
      "metadata": {
        "id": "lUR169iH8oaj"
      },
      "outputs": [],
      "source": [
        "action = sample_next_action(available_act)"
      ]
    },
    {
      "cell_type": "code",
      "execution_count": null,
      "metadata": {
        "colab": {
          "base_uri": "https://localhost:8080/"
        },
        "id": "Nq-deEiK8ye2",
        "outputId": "4571ef39-1b01-4052-d1c6-54a3d1e215a5"
      },
      "outputs": [
        {
          "data": {
            "text/plain": [
              "5"
            ]
          },
          "execution_count": 49,
          "metadata": {},
          "output_type": "execute_result"
        }
      ],
      "source": [
        "action"
      ]
    },
    {
      "cell_type": "code",
      "execution_count": null,
      "metadata": {
        "id": "yRcZUxht8zR9"
      },
      "outputs": [],
      "source": [
        "#This function update the Qmatrix according to the path selected and the Q learning algorithm\n",
        "def update(current_state,action,gamma):\n",
        "  max_index=np.where(Q[action,]==np.max(Q[action,]))[1]\n",
        "\n",
        "  if max_index.shape[0]>1:\n",
        "    max_index=int(np.random.choice(max_index,size=1))\n",
        "  else:\n",
        "    max_location=int(max_index)\n",
        "  max_value=Q[action, max_index]\n",
        "\n",
        "  #Q-learning formula\n",
        "  Q[current_state,action]=R[current_state,action]+gamma*max_value\n",
        "\n",
        "#update Q matrix \n",
        "update(initial_state,action,gamma)"
      ]
    },
    {
      "cell_type": "code",
      "execution_count": null,
      "metadata": {
        "colab": {
          "base_uri": "https://localhost:8080/"
        },
        "id": "EuFph9uj93_z",
        "outputId": "88e77471-ab82-4f96-e5a6-13dca1468f98"
      },
      "outputs": [
        {
          "data": {
            "text/plain": [
              "matrix([[  0.,   0.,   0.,   0.,   0.,   0.],\n",
              "        [  0.,   0.,   0.,   0.,   0., 100.],\n",
              "        [  0.,   0.,   0.,   0.,   0.,   0.],\n",
              "        [  0.,   0.,   0.,   0.,   0.,   0.],\n",
              "        [  0.,   0.,   0.,   0.,   0.,   0.],\n",
              "        [  0.,   0.,   0.,   0.,   0.,   0.]])"
            ]
          },
          "execution_count": 51,
          "metadata": {},
          "output_type": "execute_result"
        }
      ],
      "source": [
        "Q"
      ]
    },
    {
      "cell_type": "code",
      "execution_count": null,
      "metadata": {
        "colab": {
          "base_uri": "https://localhost:8080/"
        },
        "id": "u1Mn-_Dw948m",
        "outputId": "9e4c93f5-6549-4604-e112-1dc5347ab28c"
      },
      "outputs": [
        {
          "name": "stdout",
          "output_type": "stream",
          "text": [
            "Trained Q matrix\n",
            "[[  0.    0.    0.    0.   80.    0. ]\n",
            " [  0.    0.    0.   64.    0.  100. ]\n",
            " [  0.    0.    0.   64.    0.    0. ]\n",
            " [  0.   80.   51.2   0.   80.    0. ]\n",
            " [  0.   80.   51.2   0.    0.  100. ]\n",
            " [  0.   80.    0.    0.   80.  100. ]]\n"
          ]
        }
      ],
      "source": [
        "#Training\n",
        "#Train over 10,000 iterations\n",
        "for i in range(10000):\n",
        "  current_state=np.random.randint(0,int(Q.shape[0]))\n",
        "  available_act=available_actions(current_state)\n",
        "  action=sample_next_action(available_act)\n",
        "  update(current_state,action,gamma)\n",
        "\n",
        "#normalize the trained Q-matrix\n",
        "print(\"Trained Q matrix\")\n",
        "print(Q/np.max(Q)*100)"
      ]
    },
    {
      "cell_type": "code",
      "execution_count": null,
      "metadata": {
        "id": "v4QXb3E__EqZ",
        "outputId": "54b3b12f-792c-41ca-bde9-556819044d7f"
      },
      "outputs": [
        {
          "name": "stdout",
          "output_type": "stream",
          "text": [
            "Selected path :\n",
            "[1, 5]\n"
          ]
        }
      ],
      "source": [
        "current_state=1\n",
        "steps=[current_state]\n",
        "\n",
        "while current_state != 5:\n",
        "    next_step_index=np.where(Q[current_state,]==np.max(Q[current_state,]))[1]\n",
        "    if next_step_index.shape[0]>1:\n",
        "        next_step_index=int(np.random.choice(next_step_index,size=1))\n",
        "    else:\n",
        "        next_step_index=int(next_step_index)\n",
        "        \n",
        "    steps.append(next_step_index)\n",
        "    current_state=next_step_index\n",
        "    \n",
        "#print selected step sequence\n",
        "print(\"Selected path :\")\n",
        "print(steps)"
      ]
    },
    {
      "cell_type": "code",
      "execution_count": null,
      "metadata": {
        "id": "1mLDA8idMoc7"
      },
      "outputs": [],
      "source": []
    }
  ],
  "metadata": {
    "colab": {
      "provenance": [],
      "include_colab_link": true
    },
    "kernelspec": {
      "display_name": "Python 3 (ipykernel)",
      "language": "python",
      "name": "python3"
    },
    "language_info": {
      "codemirror_mode": {
        "name": "ipython",
        "version": 3
      },
      "file_extension": ".py",
      "mimetype": "text/x-python",
      "name": "python",
      "nbconvert_exporter": "python",
      "pygments_lexer": "ipython3",
      "version": "3.9.12"
    }
  },
  "nbformat": 4,
  "nbformat_minor": 0
}